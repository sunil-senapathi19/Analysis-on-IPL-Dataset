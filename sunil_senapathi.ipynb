{
  "cells": [
    {
      "cell_type": "markdown",
      "metadata": {
        "id": "MSxUNQDAvui1"
      },
      "source": [
        "## **section 1**"
      ]
    },
    {
      "cell_type": "code",
      "execution_count": null,
      "metadata": {
        "id": "rfbJyGo8XBky"
      },
      "outputs": [],
      "source": [
        " !apt-get install openjdk-8-jdk-headless -qq > /dev/null"
      ]
    },
    {
      "cell_type": "code",
      "execution_count": null,
      "metadata": {
        "id": "n-OJdSEcXtvQ"
      },
      "outputs": [],
      "source": [
        "!wget -q https://archive.apache.org/dist/spark/spark-3.1.2/spark-3.1.2-bin-hadoop2.7.tgz"
      ]
    },
    {
      "cell_type": "code",
      "execution_count": null,
      "metadata": {
        "id": "W-c3AhDLX9gT"
      },
      "outputs": [],
      "source": [
        " !tar xf spark-3.1.2-bin-hadoop2.7.tgz"
      ]
    },
    {
      "cell_type": "code",
      "execution_count": null,
      "metadata": {
        "id": "XmMGJJhUYP_U"
      },
      "outputs": [],
      "source": [
        "import os\n",
        "os.environ[\"JAVA_HOME\"] = \"/usr/lib/jvm/java-8-openjdk-amd64\"\n",
        "os.environ[\"SPARK_HOME\"] = \"/content/spark-3.1.2-bin-hadoop2.7\""
      ]
    },
    {
      "cell_type": "code",
      "execution_count": null,
      "metadata": {
        "id": "qpl-zfrkYYg2"
      },
      "outputs": [],
      "source": [
        "!pip install -q findspark\n",
        "import findspark\n",
        "findspark.init()"
      ]
    },
    {
      "cell_type": "code",
      "execution_count": null,
      "metadata": {
        "id": "aNVSb5x3YmGY"
      },
      "outputs": [],
      "source": [
        "from pyspark.sql import SparkSession\n",
        "spark = (SparkSession\n",
        "  .builder\n",
        "  .appName(\"<app_name>\")\n",
        "  .getOrCreate())"
      ]
    },
    {
      "cell_type": "code",
      "execution_count": null,
      "metadata": {
        "id": "4nIKI2P6e5N3"
      },
      "outputs": [],
      "source": [
        "datasetPath=\"/content/drive/MyDrive/ipl_dataset_2/\" "
      ]
    },
    {
      "cell_type": "code",
      "execution_count": null,
      "metadata": {
        "id": "gIf3fpRygtA4"
      },
      "outputs": [],
      "source": [
        "df_matches = spark.read.load(datasetPath+\"ipl_matches.csv\",\n",
        "                     format=\"csv\", sep=\",\", inferSchema=True, header=True)"
      ]
    },
    {
      "cell_type": "code",
      "execution_count": null,
      "metadata": {
        "colab": {
          "base_uri": "https://localhost:8080/"
        },
        "id": "DxdXX3qIhuAz",
        "outputId": "fdaab47e-0b55-4756-8f73-2e8b55a29f7e"
      },
      "outputs": [
        {
          "output_type": "execute_result",
          "data": {
            "text/plain": [
              "DataFrame[match_id: int, date: string, player_of_match: string, venue_id: int, neutral_venue: int, team1: string, team2: string, toss_winner: string, toss_decision: string, winner: string, result: string, result_margin: string, eliminator: string, method: string, umpire1: string, umpire2: string]"
            ]
          },
          "metadata": {},
          "execution_count": 23
        }
      ],
      "source": [
        "df_matches"
      ]
    },
    {
      "cell_type": "code",
      "execution_count": null,
      "metadata": {
        "id": "bYwtelpsbvB8",
        "colab": {
          "base_uri": "https://localhost:8080/"
        },
        "outputId": "a89e63bc-7c6f-47e4-a2da-121c860307f4"
      },
      "outputs": [
        {
          "output_type": "stream",
          "name": "stdout",
          "text": [
            "Mounted at /content/drive\n"
          ]
        }
      ],
      "source": [
        "from google.colab import drive\n",
        "drive.mount('/content/drive')"
      ]
    },
    {
      "cell_type": "code",
      "execution_count": null,
      "metadata": {
        "id": "yYL5bpeEjT7z"
      },
      "outputs": [],
      "source": [
        "df_venue = spark.read.load(datasetPath+\"ipl_venue.csv\",\n",
        "                     format=\"csv\", sep=\",\", inferSchema=True, header=True)"
      ]
    },
    {
      "cell_type": "code",
      "execution_count": null,
      "metadata": {
        "colab": {
          "base_uri": "https://localhost:8080/"
        },
        "id": "qn1pLZF6jd_B",
        "outputId": "8ec5f1aa-49c5-4da0-d695-ade5c5d55035"
      },
      "outputs": [
        {
          "output_type": "execute_result",
          "data": {
            "text/plain": [
              "[Row(venue_id=1, venue='Dr. Y.S. Rajasekhara Reddy ACA-VDCA Cricket Stadium', city='Visakhapatnam'),\n",
              " Row(venue_id=2, venue='Sharjah Cricket Stadium', city='Sharjah'),\n",
              " Row(venue_id=3, venue='JSCA International Stadium Complex', city='Ranchi'),\n",
              " Row(venue_id=4, venue='Saurashtra Cricket Association Stadium', city='Rajkot'),\n",
              " Row(venue_id=5, venue='Shaheed Veer Narayan Singh International Stadium', city='Raipur')]"
            ]
          },
          "metadata": {},
          "execution_count": 26
        }
      ],
      "source": [
        "df_venue.head(5)"
      ]
    },
    {
      "cell_type": "code",
      "execution_count": null,
      "metadata": {
        "id": "FmXiMYVKjov8"
      },
      "outputs": [],
      "source": [
        "df_ball_by_ball = spark.read.load(datasetPath+\"ipl_ball_by_ball.csv\",\n",
        "                     format=\"csv\", sep=\",\", inferSchema=True, header=True)"
      ]
    },
    {
      "cell_type": "code",
      "execution_count": null,
      "metadata": {
        "colab": {
          "base_uri": "https://localhost:8080/"
        },
        "id": "unGMgE-Vj1G1",
        "outputId": "85fb845c-d669-475c-ed6e-cc313be719c6"
      },
      "outputs": [
        {
          "output_type": "execute_result",
          "data": {
            "text/plain": [
              "DataFrame[match_id: int, inning: int, overs: int, ball: int, batsman: string, non_striker: string, bowler: string, batsman_runs: int, extra_runs: int, total_runs: int, non_boundary: int, is_wicket: int, dismissal_kind: string, player_dismissed: string, fielder: string, extras_type: string, batting_team: string, bowling_team: string]"
            ]
          },
          "metadata": {},
          "execution_count": 28
        }
      ],
      "source": [
        "df_ball_by_ball"
      ]
    },
    {
      "cell_type": "code",
      "execution_count": null,
      "metadata": {
        "id": "DPMI3Hvqlfxn"
      },
      "outputs": [],
      "source": [
        "df_matches.createOrReplaceTempView(\"matches\")"
      ]
    },
    {
      "cell_type": "code",
      "execution_count": null,
      "metadata": {
        "id": "SiZN7l1xlpDj"
      },
      "outputs": [],
      "source": [
        "df_venue.createOrReplaceTempView(\"venue\")"
      ]
    },
    {
      "cell_type": "code",
      "execution_count": null,
      "metadata": {
        "id": "NWUe8swZlzkB"
      },
      "outputs": [],
      "source": [
        "df_ball_by_ball.createOrReplaceTempView(\"ball_by_ball\")"
      ]
    },
    {
      "cell_type": "code",
      "execution_count": null,
      "metadata": {
        "colab": {
          "base_uri": "https://localhost:8080/"
        },
        "id": "ZzU9jJA7l9rR",
        "outputId": "1d27c45e-4412-48ca-9674-8938f23fd3fd"
      },
      "outputs": [
        {
          "output_type": "execute_result",
          "data": {
            "text/plain": [
              "[Table(name='ball_by_ball', database=None, description=None, tableType='TEMPORARY', isTemporary=True),\n",
              " Table(name='matches', database=None, description=None, tableType='TEMPORARY', isTemporary=True),\n",
              " Table(name='venue', database=None, description=None, tableType='TEMPORARY', isTemporary=True)]"
            ]
          },
          "metadata": {},
          "execution_count": 32
        }
      ],
      "source": [
        "spark.catalog.listTables()"
      ]
    },
    {
      "cell_type": "markdown",
      "metadata": {
        "id": "mrpwDCj_JBkj"
      },
      "source": [
        "## **section 2**"
      ]
    },
    {
      "cell_type": "code",
      "execution_count": null,
      "metadata": {
        "id": "pjos5DR4EptF"
      },
      "outputs": [],
      "source": [
        "m = df_matches.alias('m')\n",
        "v= df_venue.alias('v')\n",
        "b2b=df_ball_by_ball.alias('b2b')"
      ]
    },
    {
      "cell_type": "code",
      "execution_count": null,
      "metadata": {
        "colab": {
          "base_uri": "https://localhost:8080/"
        },
        "id": "_m2QWcxyK1aP",
        "outputId": "7dbff30c-179e-4616-8edc-d3382df0a078"
      },
      "outputs": [
        {
          "output_type": "execute_result",
          "data": {
            "text/plain": [
              "Row(venue_id=1, venue='Dr. Y.S. Rajasekhara Reddy ACA-VDCA Cricket Stadium', city='Visakhapatnam')"
            ]
          },
          "metadata": {},
          "execution_count": 34
        }
      ],
      "source": [
        "v.head()"
      ]
    },
    {
      "cell_type": "code",
      "execution_count": null,
      "metadata": {
        "colab": {
          "base_uri": "https://localhost:8080/"
        },
        "id": "o-N1m8bXK5_6",
        "outputId": "57682815-eb6d-42ab-eef1-80790a206870"
      },
      "outputs": [
        {
          "output_type": "execute_result",
          "data": {
            "text/plain": [
              "Row(match_id=335982, date='2008-04-18', player_of_match='BB McCullum', venue_id=35, neutral_venue=0, team1='Royal Challengers Bangalore', team2='Kolkata Knight Riders', toss_winner='Royal Challengers Bangalore', toss_decision='field', winner='Kolkata Knight Riders', result='runs', result_margin='140', eliminator='N', method='NA', umpire1='Asad Rauf', umpire2='RE Koertzen')"
            ]
          },
          "metadata": {},
          "execution_count": 35
        }
      ],
      "source": [
        "m.head()"
      ]
    },
    {
      "cell_type": "code",
      "execution_count": null,
      "metadata": {
        "colab": {
          "base_uri": "https://localhost:8080/"
        },
        "id": "cO17puN_Ep0l",
        "outputId": "6ddf853f-40b1-4884-c956-e82aac2f934e"
      },
      "outputs": [
        {
          "output_type": "stream",
          "name": "stdout",
          "text": [
            "root\n",
            " |-- match_id: integer (nullable = true)\n",
            " |-- date: string (nullable = true)\n",
            " |-- player_of_match: string (nullable = true)\n",
            " |-- venue_id: integer (nullable = true)\n",
            " |-- neutral_venue: integer (nullable = true)\n",
            " |-- team1: string (nullable = true)\n",
            " |-- team2: string (nullable = true)\n",
            " |-- toss_winner: string (nullable = true)\n",
            " |-- toss_decision: string (nullable = true)\n",
            " |-- winner: string (nullable = true)\n",
            " |-- result: string (nullable = true)\n",
            " |-- result_margin: string (nullable = true)\n",
            " |-- eliminator: string (nullable = true)\n",
            " |-- method: string (nullable = true)\n",
            " |-- umpire1: string (nullable = true)\n",
            " |-- umpire2: string (nullable = true)\n",
            "\n"
          ]
        }
      ],
      "source": [
        "df_matches.printSchema()"
      ]
    },
    {
      "cell_type": "code",
      "execution_count": null,
      "metadata": {
        "colab": {
          "base_uri": "https://localhost:8080/"
        },
        "id": "4CKLQC9hbEEA",
        "outputId": "238211d8-fa83-4b18-8585-54365a125ce6"
      },
      "outputs": [
        {
          "output_type": "stream",
          "name": "stdout",
          "text": [
            "root\n",
            " |-- match_id: integer (nullable = true)\n",
            " |-- inning: integer (nullable = true)\n",
            " |-- overs: integer (nullable = true)\n",
            " |-- ball: integer (nullable = true)\n",
            " |-- batsman: string (nullable = true)\n",
            " |-- non_striker: string (nullable = true)\n",
            " |-- bowler: string (nullable = true)\n",
            " |-- batsman_runs: integer (nullable = true)\n",
            " |-- extra_runs: integer (nullable = true)\n",
            " |-- total_runs: integer (nullable = true)\n",
            " |-- non_boundary: integer (nullable = true)\n",
            " |-- is_wicket: integer (nullable = true)\n",
            " |-- dismissal_kind: string (nullable = true)\n",
            " |-- player_dismissed: string (nullable = true)\n",
            " |-- fielder: string (nullable = true)\n",
            " |-- extras_type: string (nullable = true)\n",
            " |-- batting_team: string (nullable = true)\n",
            " |-- bowling_team: string (nullable = true)\n",
            "\n"
          ]
        }
      ],
      "source": [
        "df_ball_by_ball.printSchema()"
      ]
    },
    {
      "cell_type": "code",
      "execution_count": null,
      "metadata": {
        "colab": {
          "base_uri": "https://localhost:8080/"
        },
        "id": "ezjQApdWGffh",
        "outputId": "c9fe5ae8-d6f1-4438-bac0-3d6774886ef8"
      },
      "outputs": [
        {
          "output_type": "execute_result",
          "data": {
            "text/plain": [
              "DataFrame[venue_id: int]"
            ]
          },
          "metadata": {},
          "execution_count": 38
        }
      ],
      "source": [
        "df_venue.select('venue_id')"
      ]
    },
    {
      "cell_type": "markdown",
      "metadata": {
        "id": "1MzCzmKLbn9y"
      },
      "source": [
        "question 1\n"
      ]
    },
    {
      "cell_type": "code",
      "execution_count": null,
      "metadata": {
        "id": "k67b3JVQYAJM"
      },
      "outputs": [],
      "source": [
        "from pyspark.sql.functions import col, desc"
      ]
    },
    {
      "cell_type": "code",
      "execution_count": null,
      "metadata": {
        "colab": {
          "base_uri": "https://localhost:8080/"
        },
        "id": "_0m0Ey28Ep4N",
        "outputId": "46c0a423-61b2-4d71-c32e-df0cb782288d"
      },
      "outputs": [
        {
          "output_type": "stream",
          "name": "stdout",
          "text": [
            "+--------------------+-----+\n",
            "|               venue|count|\n",
            "+--------------------+-----+\n",
            "|Dubai Internation...|    3|\n",
            "|Sheikh Zayed Stadium|    2|\n",
            "|Rajiv Gandhi Inte...|    1|\n",
            "+--------------------+-----+\n",
            "only showing top 3 rows\n",
            "\n"
          ]
        }
      ],
      "source": [
        "EM=v.join(m, v.venue_id == m.venue_id)\n",
        "EM2=EM.filter(EM.eliminator=='Y')\n",
        "EM3=EM2.groupBy('venue').count()\n",
        "EM3.sort(col(\"count\").desc()).show(3)\n",
        "\n",
        "\n",
        "\n",
        "\n"
      ]
    },
    {
      "cell_type": "markdown",
      "metadata": {
        "id": "TqsLiUlobs-l"
      },
      "source": [
        "question 2\n"
      ]
    },
    {
      "cell_type": "code",
      "execution_count": null,
      "metadata": {
        "colab": {
          "base_uri": "https://localhost:8080/"
        },
        "id": "b6Dkt1kubsdL",
        "outputId": "13e716f2-30e0-4066-8b58-35bde10c6810"
      },
      "outputs": [
        {
          "output_type": "stream",
          "name": "stdout",
          "text": [
            "+----------+-----+\n",
            "|   fielder|count|\n",
            "+----------+-----+\n",
            "|KD Karthik|  118|\n",
            "+----------+-----+\n",
            "only showing top 1 row\n",
            "\n"
          ]
        }
      ],
      "source": [
        "players=b2b.filter(col(\"dismissal_kind\")== 'caught').select('fielder')\n",
        "player=players.groupBy('fielder').count()\n",
        "player.sort(col(\"count\").desc()).show(1)\n"
      ]
    },
    {
      "cell_type": "markdown",
      "metadata": {
        "id": "8IhAWbJpibIP"
      },
      "source": [
        "question 3\n"
      ]
    },
    {
      "cell_type": "code",
      "execution_count": null,
      "metadata": {
        "colab": {
          "base_uri": "https://localhost:8080/"
        },
        "id": "Ecp2UxvNEp85",
        "outputId": "6fdf2e11-f01a-4ea5-d92d-10cf14d48b71"
      },
      "outputs": [
        {
          "output_type": "stream",
          "name": "stdout",
          "text": [
            "+-------------+--------+-----+\n",
            "|       bowler|match_id|count|\n",
            "+-------------+--------+-----+\n",
            "|    DJG Sammy|  598056|    6|\n",
            "|Sohail Tanvir|  336005|    6|\n",
            "|   AD Russell|  980963|    6|\n",
            "|      A Zampa|  980979|    6|\n",
            "|    AS Joseph| 1178394|    6|\n",
            "|     CV Varun| 1216497|    5|\n",
            "|    VY Mahesh|  336032|    5|\n",
            "|    MM Sharma|  729303|    5|\n",
            "|     A Mishra|  336020|    5|\n",
            "|      B Kumar| 1082609|    5|\n",
            "|    RA Jadeja|  548311|    5|\n",
            "|       AJ Tye| 1136600|    5|\n",
            "|     A Kumble|  419115|    5|\n",
            "|     A Kumble|  392182|    5|\n",
            "|  JP Faulkner|  598032|    5|\n",
            "|   JD Unadkat| 1082634|    5|\n",
            "|    KV Sharma|  734037|    5|\n",
            "|   SL Malinga|  501201|    5|\n",
            "|   TG Southee| 1136599|    5|\n",
            "|    SP Narine|  548323|    5|\n",
            "+-------------+--------+-----+\n",
            "only showing top 20 rows\n",
            "\n"
          ]
        }
      ],
      "source": [
        "matches=m.filter(col(\"method\")=='D/L').select('match_id')\n",
        "bowler=b2b.filter((col(\"is_wicket\")=='1') & ((b2b.dismissal_kind.isin('NA','runout'))==False)).select('bowler','match_id',).groupBy('bowler','match_id').count()\n",
        "bowler.sort(col(\"count\").desc()).show()\n",
        "\n",
        "\n",
        "\n",
        "\n"
      ]
    },
    {
      "cell_type": "markdown",
      "metadata": {
        "id": "64VlU2UHvtCl"
      },
      "source": [
        ""
      ]
    },
    {
      "cell_type": "markdown",
      "metadata": {
        "id": "5_lIiLb401-n"
      },
      "source": [
        "question 4"
      ]
    },
    {
      "cell_type": "code",
      "execution_count": null,
      "metadata": {
        "colab": {
          "base_uri": "https://localhost:8080/"
        },
        "id": "FrpufEjJ1M8p",
        "outputId": "7a81b947-d17d-482a-bacd-68818e219d24"
      },
      "outputs": [
        {
          "output_type": "stream",
          "name": "stdout",
          "text": [
            "+---------------+-----------+\n",
            "|        batsman|strike_rate|\n",
            "+---------------+-----------+\n",
            "|KMDN Kulasekara|      250.0|\n",
            "+---------------+-----------+\n",
            "only showing top 1 row\n",
            "\n"
          ]
        }
      ],
      "source": [
        "RR1=b2b.filter((b2b.overs>=7) & (b2b.extra_runs==0)) .select('batsman','batsman_runs').groupBy('batsman').sum('batsman_runs')\n",
        "RR2=b2b.filter((b2b.overs>=7) & (b2b.extra_runs==0)) .select('batsman','ball').groupBy('batsman').count()\n",
        "Join1=RR1.join(RR2, RR1.batsman==RR2.batsman).drop(RR1.batsman)\n",
        "final=Join1.select('batsman',(((col(\"sum(batsman_runs)\")/ (col(\"count\")))*100).alias('strike_rate')))\n",
        "final.sort(col(\"strike_rate\").desc()).show(1)\n",
        "\n"
      ]
    },
    {
      "cell_type": "markdown",
      "metadata": {
        "id": "ThTgn3SLpW5W"
      },
      "source": [
        "question 5"
      ]
    },
    {
      "cell_type": "code",
      "execution_count": null,
      "metadata": {
        "colab": {
          "base_uri": "https://localhost:8080/"
        },
        "id": "hUsIVXCbpaud",
        "outputId": "9a3a5172-9073-48c8-e16d-d150b07068fa"
      },
      "outputs": [
        {
          "output_type": "stream",
          "name": "stdout",
          "text": [
            "+--------------------+--------------+---------------+\n",
            "|               venue|          city|sum(extra_runs)|\n",
            "+--------------------+--------------+---------------+\n",
            "|        Eden Gardens|       Kolkata|             38|\n",
            "|   Brabourne Stadium|        Mumbai|             38|\n",
            "|Himachal Pradesh ...|    Dharamsala|             36|\n",
            "|M.Chinnaswamy Sta...|     Bengaluru|             36|\n",
            "|   Brabourne Stadium|        Mumbai|             36|\n",
            "|    Wankhede Stadium|        Mumbai|             35|\n",
            "|MA Chidambaram St...|       Chennai|             35|\n",
            "|    Wankhede Stadium|        Mumbai|             35|\n",
            "|M.Chinnaswamy Sta...|     Bengaluru|             33|\n",
            "|     SuperSport Park|     Centurion|             33|\n",
            "|Sawai Mansingh St...|        Jaipur|             32|\n",
            "|M.Chinnaswamy Sta...|     Bengaluru|             32|\n",
            "|Sawai Mansingh St...|        Jaipur|             32|\n",
            "|MA Chidambaram St...|       Chennai|             32|\n",
            "|    Feroz Shah Kotla|         Delhi|             31|\n",
            "|MA Chidambaram St...|       Chennai|             31|\n",
            "|Holkar Cricket St...|        Indore|             31|\n",
            "|    St George's Park|Port Elizabeth|             31|\n",
            "|Maharashtra Crick...|          Pune|             30|\n",
            "|    Feroz Shah Kotla|         Delhi|             30|\n",
            "+--------------------+--------------+---------------+\n",
            "only showing top 20 rows\n",
            "\n"
          ]
        }
      ],
      "source": [
        "ER=b2b.filter(b2b.extra_runs!='0').select('extra_runs','match_id').groupBy('match_id').sum('extra_runs')\n",
        "match=ER.join(m, ER.match_id==m.match_id)\n",
        "venue=match.join(v, match.venue_id==v.venue_id)\n",
        "ID=venue.select('sum(extra_runs)','v.venue_id')\n",
        "ID.groupBy('venue_id').max('sum(extra_runs)')\n",
        "final=ID.join(v, ID.venue_id==v.venue_id)\n",
        "final2=final.select('venue','city','sum(extra_runs)')\n",
        "final2.sort(col(\"sum(extra_runs)\").desc()).show()\n",
        "\n"
      ]
    },
    {
      "cell_type": "markdown",
      "metadata": {
        "id": "R3ymUGxLmOXu"
      },
      "source": [
        "question 6"
      ]
    },
    {
      "cell_type": "code",
      "execution_count": null,
      "metadata": {
        "colab": {
          "base_uri": "https://localhost:8080/"
        },
        "id": "nnr7EntQmK4C",
        "outputId": "30365bb1-7c9d-47dc-979d-b105228a0bbd"
      },
      "outputs": [
        {
          "output_type": "stream",
          "name": "stdout",
          "text": [
            "+----------------+-----+\n",
            "| player_of_match|count|\n",
            "+----------------+-----+\n",
            "|       JP Duminy|    3|\n",
            "|      GJ Maxwell|    3|\n",
            "|       JH Kallis|    3|\n",
            "|       YK Pathan|    3|\n",
            "|  Sandeep Sharma|    2|\n",
            "|    Yuvraj Singh|    2|\n",
            "|       ML Hayden|    2|\n",
            "|    SR Tendulkar|    2|\n",
            "|  M Muralitharan|    2|\n",
            "|       MK Pandey|    2|\n",
            "|       RG Sharma|    2|\n",
            "|DPMD Jayawardene|    2|\n",
            "|        DR Smith|    2|\n",
            "|   KC Sangakkara|    2|\n",
            "|     LRPL Taylor|    2|\n",
            "|        SK Raina|    2|\n",
            "|  AB de Villiers|    2|\n",
            "|    AC Gilchrist|    2|\n",
            "|         M Vijay|    1|\n",
            "|        V Sehwag|    1|\n",
            "+----------------+-----+\n",
            "only showing top 20 rows\n",
            "\n"
          ]
        }
      ],
      "source": [
        "pom=m.filter(m.neutral_venue=='1').select('venue_id','player_of_match').groupBy('player_of_match').count()\n",
        "pom.sort(col(\"count\").desc()).show()\n"
      ]
    },
    {
      "cell_type": "markdown",
      "metadata": {
        "id": "a7YPO1RcDyip"
      },
      "source": [
        "question 7"
      ]
    },
    {
      "cell_type": "code",
      "execution_count": null,
      "metadata": {
        "colab": {
          "base_uri": "https://localhost:8080/"
        },
        "id": "L0mZzcIUD1hR",
        "outputId": "82c288d2-6f13-4358-94fe-50ad3a0a014b"
      },
      "outputs": [
        {
          "output_type": "stream",
          "name": "stdout",
          "text": [
            "+--------------+------------------+\n",
            "|       batsman|           average|\n",
            "+--------------+------------------+\n",
            "|    MN van Wyk|55.666666666666664|\n",
            "|    RD Gaikwad|              51.0|\n",
            "|      AC Voges|             45.25|\n",
            "|      KL Rahul| 44.86440677966102|\n",
            "|       HM Amla| 44.38461538461539|\n",
            "| Iqbal Abdulla|              44.0|\n",
            "|     DA Warner| 42.71544715447155|\n",
            "|   JM Bairstow|41.578947368421055|\n",
            "|      CH Gayle| 41.13793103448276|\n",
            "|      MS Dhoni|40.991150442477874|\n",
            "|PD Collingwood|              40.6|\n",
            "|AB de Villiers| 40.40833333333333|\n",
            "|   LMP Simmons| 39.96296296296296|\n",
            "|      SE Marsh| 39.95161290322581|\n",
            "|     JP Duminy| 39.78431372549019|\n",
            "| KS Williamson| 39.48780487804878|\n",
            "|    MEK Hussey| 38.76470588235294|\n",
            "|       V Kohli| 38.16883116883117|\n",
            "|     ML Hayden|              36.9|\n",
            "|     A Symonds|36.074074074074076|\n",
            "+--------------+------------------+\n",
            "only showing top 20 rows\n",
            "\n"
          ]
        }
      ],
      "source": [
        "outs=b2b.filter(b2b.player_dismissed!='NA').select('player_dismissed').groupBy('player_dismissed').count()\n",
        "runs=b2b.select('batsman','batsman_runs').groupBy('batsman').sum('batsman_runs')\n",
        "average=runs.join(outs, outs.player_dismissed==runs.batsman)\n",
        "final1=average.drop('player_dismissed')\n",
        "final=final1.select('batsman',((col(\"sum(batsman_runs)\"))/ (col(\"count\"))).alias('average'))\n",
        "final.sort(col(\"average\").desc()).show()"
      ]
    },
    {
      "cell_type": "markdown",
      "metadata": {
        "id": "Cp_U8ELAJcYN"
      },
      "source": [
        "question 8"
      ]
    },
    {
      "cell_type": "markdown",
      "metadata": {
        "id": "L7IzNc6yD0z2"
      },
      "source": [
        ""
      ]
    },
    {
      "cell_type": "code",
      "execution_count": null,
      "metadata": {
        "colab": {
          "base_uri": "https://localhost:8080/"
        },
        "id": "bO999i7qEqBU",
        "outputId": "ac1df784-a0dd-4b8b-90d2-be5d29724f12"
      },
      "outputs": [
        {
          "output_type": "stream",
          "name": "stdout",
          "text": [
            "+------+-----------+\n",
            "|umpire|final count|\n",
            "+------+-----------+\n",
            "|S Ravi|        121|\n",
            "+------+-----------+\n",
            "only showing top 1 row\n",
            "\n"
          ]
        }
      ],
      "source": [
        "matches1=m.groupBy('umpire1').count()\n",
        "matches1=matches1.withColumnRenamed(\"count\",\"count1\")\n",
        "matches2=m.groupBy('umpire2').count()\n",
        "count=matches1.join(matches2, matches1.umpire1 == matches2.umpire2)\n",
        "count.drop('umpire2')\n",
        "final=count.select('umpire1',((col(\"count1\") + col(\"count\")).alias(\"final count\")))\n",
        "final=final.withColumnRenamed(\"umpire1\",\"umpire\")\n",
        "final.sort(col(\"final count\").desc()).show(1)\n",
        "\n",
        "\n",
        "\n"
      ]
    },
    {
      "cell_type": "markdown",
      "metadata": {
        "id": "5E4dRrCAfRY0"
      },
      "source": [
        "question 9"
      ]
    },
    {
      "cell_type": "code",
      "execution_count": null,
      "metadata": {
        "colab": {
          "base_uri": "https://localhost:8080/"
        },
        "id": "5yS14oNEEqDK",
        "outputId": "a4a77deb-07d5-4de7-b755-9cf53a5f9710"
      },
      "outputs": [
        {
          "output_type": "stream",
          "name": "stdout",
          "text": [
            "+--------+--------------------+---------+\n",
            "|venue_id|               venue|     city|\n",
            "+--------+--------------------+---------+\n",
            "|      35|M.Chinnaswamy Sta...|Bengaluru|\n",
            "+--------+--------------------+---------+\n",
            "only showing top 1 row\n",
            "\n"
          ]
        }
      ],
      "source": [
        "vk=b2b.filter(b2b.batsman=='V Kohli').select('match_id','batsman_runs').groupBy('match_id').sum()\n",
        "vk1=vk.drop('sum(match_id)')\n",
        "vk2=vk1.withColumnRenamed(\"sum(batsman_runs)\",\"runs\")\n",
        "join1=vk2.join(m, vk2.match_id == m.match_id)\n",
        "join2=join1.join(v, join1.venue_id==v.venue_id)\n",
        "final=join2.sort(col(\"runs\").desc())\n",
        "final.select('v.venue_id','venue','city').show(1)\n"
      ]
    },
    {
      "cell_type": "markdown",
      "metadata": {
        "id": "2646mdgI-Ldp"
      },
      "source": [
        "question 10"
      ]
    },
    {
      "cell_type": "code",
      "execution_count": null,
      "metadata": {
        "colab": {
          "base_uri": "https://localhost:8080/"
        },
        "id": "DS9E58-p-LGw",
        "outputId": "14c85db4-0160-47c6-fe93-8066e23c443d"
      },
      "outputs": [
        {
          "output_type": "stream",
          "name": "stdout",
          "text": [
            "+--------------------+-----+\n",
            "|              winner|count|\n",
            "+--------------------+-----+\n",
            "| Sunrisers Hyderabad|   29|\n",
            "| Chennai Super Kings|   61|\n",
            "|Rising Pune Super...|    5|\n",
            "|     Deccan Chargers|   19|\n",
            "|Kochi Tuskers Kerala|    4|\n",
            "|    Rajasthan Royals|   44|\n",
            "|       Gujarat Lions|   10|\n",
            "|Royal Challengers...|   43|\n",
            "|Kolkata Knight Ri...|   55|\n",
            "|Rising Pune Super...|    3|\n",
            "|     Kings XI Punjab|   36|\n",
            "|       Pune Warriors|    3|\n",
            "|    Delhi Daredevils|   35|\n",
            "|      Delhi Capitals|   10|\n",
            "|      Mumbai Indians|   61|\n",
            "+--------------------+-----+\n",
            "\n",
            "+--------------------+-------+\n",
            "|               team1|matches|\n",
            "+--------------------+-------+\n",
            "| Sunrisers Hyderabad|    124|\n",
            "| Chennai Super Kings|    178|\n",
            "|Rising Pune Super...|     16|\n",
            "|     Deccan Chargers|     75|\n",
            "|Kochi Tuskers Kerala|     14|\n",
            "|    Rajasthan Royals|    161|\n",
            "|       Gujarat Lions|     30|\n",
            "|Royal Challengers...|    195|\n",
            "|Kolkata Knight Ri...|    192|\n",
            "|Rising Pune Super...|     14|\n",
            "|     Kings XI Punjab|    190|\n",
            "|       Pune Warriors|     46|\n",
            "|    Delhi Daredevils|    161|\n",
            "|      Delhi Capitals|     33|\n",
            "|      Mumbai Indians|    203|\n",
            "+--------------------+-------+\n",
            "\n"
          ]
        }
      ],
      "source": [
        "winnert=m.filter(m.winner == m.toss_winner).select('winner').groupBy('winner').count().show()\n",
        "\n",
        "table1=m.select('team1').groupBy('team1').count()\n",
        "t1=table1.withColumnRenamed('count','matches1')\n",
        "table2=m.select('team2').groupBy('team2').count()\n",
        "t2=table2.withColumnRenamed('count','matches2')\n",
        "join1=t1.join(t2,t1.team1==t2.team2).select('team1',((t1.matches1+t2.matches2).alias(\"matches\"))).show()\n",
        "\n",
        "\n",
        "\n",
        "\n"
      ]
    },
    {
      "cell_type": "code",
      "execution_count": null,
      "metadata": {
        "id": "FirO0CfqEqFi"
      },
      "outputs": [],
      "source": [
        ""
      ]
    },
    {
      "cell_type": "code",
      "execution_count": null,
      "metadata": {
        "id": "HOCKNLOtEqHT"
      },
      "outputs": [],
      "source": [
        ""
      ]
    },
    {
      "cell_type": "code",
      "execution_count": null,
      "metadata": {
        "id": "-uZ_OnQREqK9"
      },
      "outputs": [],
      "source": [
        ""
      ]
    },
    {
      "cell_type": "code",
      "execution_count": null,
      "metadata": {
        "id": "IH1imjLXEqXm"
      },
      "outputs": [],
      "source": [
        ""
      ]
    },
    {
      "cell_type": "code",
      "execution_count": null,
      "metadata": {
        "id": "05HFSIpmEqZ6"
      },
      "outputs": [],
      "source": [
        ""
      ]
    },
    {
      "cell_type": "code",
      "execution_count": null,
      "metadata": {
        "id": "bW4Um_B5EqcI"
      },
      "outputs": [],
      "source": [
        ""
      ]
    }
  ],
  "metadata": {
    "colab": {
      "collapsed_sections": [],
      "name": "sunil-senapathi.ipynb",
      "provenance": []
    },
    "kernelspec": {
      "display_name": "Python 3",
      "name": "python3"
    },
    "language_info": {
      "name": "python"
    }
  },
  "nbformat": 4,
  "nbformat_minor": 0
}